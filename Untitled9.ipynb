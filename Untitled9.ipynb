{
  "nbformat": 4,
  "nbformat_minor": 0,
  "metadata": {
    "colab": {
      "provenance": [],
      "authorship_tag": "ABX9TyO7UTydcgHcE5sGfvS5kQuh",
      "include_colab_link": true
    },
    "kernelspec": {
      "name": "python3",
      "display_name": "Python 3"
    },
    "language_info": {
      "name": "python"
    }
  },
  "cells": [
    {
      "cell_type": "markdown",
      "metadata": {
        "id": "view-in-github",
        "colab_type": "text"
      },
      "source": [
        "<a href=\"https://colab.research.google.com/github/saurav0chauhan/saurav0chauhan/blob/main/Untitled9.ipynb\" target=\"_parent\"><img src=\"https://colab.research.google.com/assets/colab-badge.svg\" alt=\"Open In Colab\"/></a>"
      ]
    },
    {
      "cell_type": "code",
      "source": [
        "import numpy as np\n",
        "import pandas as pd\n",
        "from sklearn.model_selection import train_test_split\n",
        "from sklearn.preprocessing import StandardScaler\n",
        "from sklearn.linear_model import LogisticRegression\n",
        "from sklearn.metrics import accuracy_score, confusion_matrix, classification_report\n",
        "\n",
        "\n",
        "df = pd.read_csv('/content/concrete.csv')\n",
        "\n",
        "\n",
        "print(df.head())\n",
        "\n",
        "\n",
        "\n",
        "X = df.drop('age', axis=1)\n",
        "y = df['age']\n",
        "\n",
        "\n",
        "X_train, X_test, y_train, y_test = train_test_split(X, y, test_size=0.3, random_state=42)\n",
        "\n",
        "scaler = StandardScaler()\n",
        "X_train = scaler.fit_transform(X_train)\n",
        "X_test = scaler.transform(X_test)\n",
        "\n",
        "\n",
        "model = LogisticRegression()\n",
        "model.fit(X_train, y_train)\n",
        "\n",
        "y_pred = model.predict(X_test)\n",
        "\n",
        "\n",
        "accuracy = accuracy_score(y_test, y_pred)\n",
        "conf_matrix = confusion_matrix(y_test, y_pred)\n",
        "class_report = classification_report(y_test, y_pred)\n",
        "\n",
        "print(f'Accuracy: {accuracy}')\n",
        "print('Confusion Matrix:')\n",
        "print(conf_matrix)\n",
        "print('Classification Report:')\n",
        "print(class_report)"
      ],
      "metadata": {
        "colab": {
          "base_uri": "https://localhost:8080/"
        },
        "id": "mMVit8fVQehS",
        "outputId": "8890a97a-71ae-4c32-d8b6-1c4d10ab431b"
      },
      "execution_count": 25,
      "outputs": [
        {
          "output_type": "stream",
          "name": "stdout",
          "text": [
            "   cement   slag  ash  water  superplastic  coarseagg  fineagg  age  strength\n",
            "0   540.0    0.0  0.0  162.0           2.5     1040.0    676.0   28     79.99\n",
            "1   540.0    0.0  0.0  162.0           2.5     1055.0    676.0   28     61.89\n",
            "2   332.5  142.5  0.0  228.0           0.0      932.0    594.0  270     40.27\n",
            "3   332.5  142.5  0.0  228.0           0.0      932.0    594.0  365     41.05\n",
            "4   198.6  132.4  0.0  192.0           0.0      978.4    825.5  360     44.30\n",
            "Accuracy: 0.6148867313915858\n",
            "Confusion Matrix:\n",
            "[[ 34   9   0   3   0   0   0   0   0   0   0   0]\n",
            " [  6  25   0  12   0   0   0   0   0   0   0   0]\n",
            " [  1   0   4  15   1   0   0   0   0   0   0   0]\n",
            " [  0   0   4 104  11   0   1   2   0   0   0   0]\n",
            " [  0   0   0  13   6   0   0   7   1   0   0   0]\n",
            " [  0   0   0   8   0   5   0   0   0   0   0   0]\n",
            " [  0   0   0   1   2   0   1   0   0   0   0   0]\n",
            " [  0   0   0   1   1   0   0  11   0   0   0   0]\n",
            " [  0   0   0   6   0   1   0   0   0   0   0   0]\n",
            " [  0   0   0   2   0   2   0   0   3   0   0   0]\n",
            " [  0   0   0   0   0   1   0   0   0   0   0   0]\n",
            " [  0   0   0   3   0   2   0   0   0   0   0   0]]\n",
            "Classification Report:\n",
            "              precision    recall  f1-score   support\n",
            "\n",
            "           3       0.83      0.74      0.78        46\n",
            "           7       0.74      0.58      0.65        43\n",
            "          14       0.50      0.19      0.28        21\n",
            "          28       0.62      0.85      0.72       122\n",
            "          56       0.29      0.22      0.25        27\n",
            "          90       0.45      0.38      0.42        13\n",
            "          91       0.50      0.25      0.33         4\n",
            "         100       0.55      0.85      0.67        13\n",
            "         180       0.00      0.00      0.00         7\n",
            "         270       0.00      0.00      0.00         7\n",
            "         360       0.00      0.00      0.00         1\n",
            "         365       0.00      0.00      0.00         5\n",
            "\n",
            "    accuracy                           0.61       309\n",
            "   macro avg       0.37      0.34      0.34       309\n",
            "weighted avg       0.58      0.61      0.58       309\n",
            "\n"
          ]
        },
        {
          "output_type": "stream",
          "name": "stderr",
          "text": [
            "/usr/local/lib/python3.10/dist-packages/sklearn/metrics/_classification.py:1531: UndefinedMetricWarning: Precision is ill-defined and being set to 0.0 in labels with no predicted samples. Use `zero_division` parameter to control this behavior.\n",
            "  _warn_prf(average, modifier, f\"{metric.capitalize()} is\", len(result))\n",
            "/usr/local/lib/python3.10/dist-packages/sklearn/metrics/_classification.py:1531: UndefinedMetricWarning: Precision is ill-defined and being set to 0.0 in labels with no predicted samples. Use `zero_division` parameter to control this behavior.\n",
            "  _warn_prf(average, modifier, f\"{metric.capitalize()} is\", len(result))\n",
            "/usr/local/lib/python3.10/dist-packages/sklearn/metrics/_classification.py:1531: UndefinedMetricWarning: Precision is ill-defined and being set to 0.0 in labels with no predicted samples. Use `zero_division` parameter to control this behavior.\n",
            "  _warn_prf(average, modifier, f\"{metric.capitalize()} is\", len(result))\n"
          ]
        }
      ]
    }
  ]
}