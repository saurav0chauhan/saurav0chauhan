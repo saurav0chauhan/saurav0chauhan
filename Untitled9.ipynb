{
  "nbformat": 4,
  "nbformat_minor": 0,
  "metadata": {
    "colab": {
      "provenance": [],
      "authorship_tag": "ABX9TyOCb7HBiFYYDKtwBqz0tuiJ",
      "include_colab_link": true
    },
    "kernelspec": {
      "name": "python3",
      "display_name": "Python 3"
    },
    "language_info": {
      "name": "python"
    }
  },
  "cells": [
    {
      "cell_type": "markdown",
      "metadata": {
        "id": "view-in-github",
        "colab_type": "text"
      },
      "source": [
        "<a href=\"https://colab.research.google.com/github/saurav0chauhan/saurav0chauhan/blob/main/Untitled9.ipynb\" target=\"_parent\"><img src=\"https://colab.research.google.com/assets/colab-badge.svg\" alt=\"Open In Colab\"/></a>"
      ]
    },
    {
      "cell_type": "code",
      "execution_count": null,
      "metadata": {
        "colab": {
          "base_uri": "https://localhost:8080/"
        },
        "id": "nkS8uPIU729F",
        "outputId": "52725d40-50ae-4944-a783-6fded157dc3e"
      },
      "outputs": [
        {
          "output_type": "stream",
          "name": "stdout",
          "text": [
            "First few rows of the dataset:\n",
            "                                   [\n",
            "{\"Series\":\"I\" \"X\":10.0 \"Y\":8.04} NaN\n",
            "              \"X\":8.0  \"Y\":6.95} NaN\n",
            "              \"X\":13.0 \"Y\":7.58} NaN\n",
            "              \"X\":9.0  \"Y\":8.81} NaN\n",
            "              \"X\":11.0 \"Y\":8.33} NaN\n",
            "\n",
            "Dataset Information:\n",
            "<class 'pandas.core.frame.DataFrame'>\n",
            "MultiIndex: 45 entries, ('  {\"Series\":\"I\"', ' \"X\":10.0', ' \"Y\":8.04}') to (']', nan, nan)\n",
            "Data columns (total 1 columns):\n",
            " #   Column  Non-Null Count  Dtype  \n",
            "---  ------  --------------  -----  \n",
            " 0   [       0 non-null      float64\n",
            "dtypes: float64(1)\n",
            "memory usage: 2.5+ KB\n",
            "None\n",
            "\n",
            "Descriptive Statistics:\n",
            "         [\n",
            "count  0.0\n",
            "mean   NaN\n",
            "std    NaN\n",
            "min    NaN\n",
            "25%    NaN\n",
            "50%    NaN\n",
            "75%    NaN\n",
            "max    NaN\n",
            "\n",
            "Number of duplicate rows: 44\n",
            "\n",
            "Missing values in each column:\n",
            "[    45\n",
            "dtype: int64\n",
            "\n",
            "Preprocessed data saved to 'cleaned_data.csv'.\n"
          ]
        },
        {
          "output_type": "stream",
          "name": "stderr",
          "text": [
            "<ipython-input-1-12ad182e3c49>:35: FutureWarning: A value is trying to be set on a copy of a DataFrame or Series through chained assignment using an inplace method.\n",
            "The behavior will change in pandas 3.0. This inplace method will never work because the intermediate object on which we are setting values always behaves as a copy.\n",
            "\n",
            "For example, when doing 'df[col].method(value, inplace=True)', try using 'df.method({col: value}, inplace=True)' or df[col] = df[col].method(value) instead, to perform the operation inplace on the original object.\n",
            "\n",
            "\n",
            "  df[column].fillna(df[column].mean(), inplace=True)\n"
          ]
        }
      ],
      "source": [
        "# Import necessary libraries\n",
        "import pandas as pd\n",
        "import numpy as np\n",
        "\n",
        "# Step 1: Load the dataset\n",
        "df = pd.read_csv('/content/anscombe (1).json')\n",
        "\n",
        "# Display the first few rows of the dataframe\n",
        "print(\"First few rows of the dataset:\")\n",
        "print(df.head())\n",
        "\n",
        "# Step 2: Explore the dataset\n",
        "print(\"\\nDataset Information:\")\n",
        "print(df.info())\n",
        "\n",
        "print(\"\\nDescriptive Statistics:\")\n",
        "print(df.describe())\n",
        "\n",
        "# Check for duplicate rows\n",
        "duplicates = df.duplicated().sum()\n",
        "print(f\"\\nNumber of duplicate rows: {duplicates}\")\n",
        "\n",
        "# Check for missing values\n",
        "missing_values = df.isnull().sum()\n",
        "print(\"\\nMissing values in each column:\")\n",
        "print(missing_values)\n",
        "\n",
        "# Step 3: Handle missing values\n",
        "# Dropping rows with any missing values\n",
        "df_cleaned = df.dropna()\n",
        "\n",
        "# Alternatively, filling missing values\n",
        "# For numerical columns, filling with the mean\n",
        "for column in df.select_dtypes(include=[np.number]).columns:\n",
        "    df[column].fillna(df[column].mean(), inplace=True)\n",
        "\n",
        "# For categorical columns, filling with the mode\n",
        "for column in df.select_dtypes(include=[object]).columns:\n",
        "    df[column].fillna(df[column].mode()[0], inplace=True)\n",
        "\n",
        "# Step 4: Data Transformation\n",
        "# Normalizing a numerical column (example: 'numerical_column')\n",
        "if 'numerical_column' in df.columns:\n",
        "    df['normalized_column'] = (df['numerical_column'] - df['numerical_column'].mean()) / df['numerical_column'].std()\n",
        "\n",
        "# One-hot encoding for categorical variables (example: 'categorical_column')\n",
        "if 'categorical_column' in df.columns:\n",
        "    df = pd.get_dummies(df, columns=['categorical_column'], drop_first=True)\n",
        "\n",
        "# Step 5: Feature Engineering\n",
        "# Creating a new feature (example: product of two features)\n",
        "if 'feature1' in df.columns and 'feature2' in df.columns:\n",
        "    df['new_feature'] = df['feature1'] * df['feature2']\n",
        "\n",
        "# If there's a datetime column, extract year, month, and day\n",
        "if 'date_column' in df.columns:\n",
        "    df['date_column'] = pd.to_datetime(df['date_column'])\n",
        "    df['year'] = df['date_column'].dt.year\n",
        "    df['month'] = df['date_column'].dt.month\n",
        "    df['day'] = df['date_column'].dt.day\n",
        "\n",
        "# Step 6: Save the preprocessed dataset\n",
        "df.to_csv('cleaned_data.csv', index=False)\n",
        "print(\"\\nPreprocessed data saved to 'cleaned_data.csv'.\")"
      ]
    }
  ]
}