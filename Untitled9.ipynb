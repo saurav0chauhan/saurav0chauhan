{
  "nbformat": 4,
  "nbformat_minor": 0,
  "metadata": {
    "colab": {
      "provenance": [],
      "authorship_tag": "ABX9TyPs5L7a7upf+svrgftxYjFh",
      "include_colab_link": true
    },
    "kernelspec": {
      "name": "python3",
      "display_name": "Python 3"
    },
    "language_info": {
      "name": "python"
    }
  },
  "cells": [
    {
      "cell_type": "markdown",
      "metadata": {
        "id": "view-in-github",
        "colab_type": "text"
      },
      "source": [
        "<a href=\"https://colab.research.google.com/github/saurav0chauhan/saurav0chauhan/blob/main/Untitled9.ipynb\" target=\"_parent\"><img src=\"https://colab.research.google.com/assets/colab-badge.svg\" alt=\"Open In Colab\"/></a>"
      ]
    },
    {
      "cell_type": "code",
      "source": [
        "import pandas as pd\n",
        "\n",
        "data = {\n",
        "    'Name': ['Chetan', 'Yug', 'Dhruv', 'Veer', None, 'Mahi', 'Tara', 'Mahi'],\n",
        "    'Age': [25, None, 30, 22, 45, 33, 28, 33],\n",
        "    'Salary': [50000, 54000, 58000, None, 61000, 65000, 67000, 65000],\n",
        "    'City': ['New York', 'Los Angeles', 'New York', 'Chicago', 'Los Angeles', 'Chicago', None, 'Chicago']\n",
        "}\n",
        "df = pd.DataFrame(data)\n",
        "\n",
        "df['Age'].fillna(df['Age'].mean(), inplace=True)\n",
        "df['Salary'].fillna(df['Salary'].median(), inplace=True)\n",
        "df['City'].fillna(df['City'].mode()[0], inplace=True)\n",
        "\n",
        "df.drop_duplicates(inplace=True)\n",
        "\n",
        "Q1 = df['Salary'].quantile(0.25)\n",
        "Q3 = df['Salary'].quantile(0.75)\n",
        "IQR = Q3 - Q1\n",
        "lower_bound = Q1 - 1.5 * IQR\n",
        "upper_bound = Q3 + 1.5 * IQR\n",
        "df = df[(df['Salary'] >= lower_bound) & (df['Salary'] <= upper_bound)]\n",
        "\n",
        "print(df)"
      ],
      "metadata": {
        "colab": {
          "base_uri": "https://localhost:8080/"
        },
        "id": "YxOWIgqxKbeU",
        "outputId": "2036419c-14f2-4f7d-ee91-c4b1e513ce94"
      },
      "execution_count": 9,
      "outputs": [
        {
          "output_type": "stream",
          "name": "stdout",
          "text": [
            "     Name        Age   Salary         City\n",
            "0  Chetan  25.000000  50000.0     New York\n",
            "1     Yug  30.857143  54000.0  Los Angeles\n",
            "2   Dhruv  30.000000  58000.0     New York\n",
            "3    Veer  22.000000  61000.0      Chicago\n",
            "4    None  45.000000  61000.0  Los Angeles\n",
            "5    Mahi  33.000000  65000.0      Chicago\n",
            "6    Tara  28.000000  67000.0      Chicago\n"
          ]
        },
        {
          "output_type": "stream",
          "name": "stderr",
          "text": [
            "<ipython-input-9-4180a39eae65>:11: FutureWarning: A value is trying to be set on a copy of a DataFrame or Series through chained assignment using an inplace method.\n",
            "The behavior will change in pandas 3.0. This inplace method will never work because the intermediate object on which we are setting values always behaves as a copy.\n",
            "\n",
            "For example, when doing 'df[col].method(value, inplace=True)', try using 'df.method({col: value}, inplace=True)' or df[col] = df[col].method(value) instead, to perform the operation inplace on the original object.\n",
            "\n",
            "\n",
            "  df['Age'].fillna(df['Age'].mean(), inplace=True)\n",
            "<ipython-input-9-4180a39eae65>:12: FutureWarning: A value is trying to be set on a copy of a DataFrame or Series through chained assignment using an inplace method.\n",
            "The behavior will change in pandas 3.0. This inplace method will never work because the intermediate object on which we are setting values always behaves as a copy.\n",
            "\n",
            "For example, when doing 'df[col].method(value, inplace=True)', try using 'df.method({col: value}, inplace=True)' or df[col] = df[col].method(value) instead, to perform the operation inplace on the original object.\n",
            "\n",
            "\n",
            "  df['Salary'].fillna(df['Salary'].median(), inplace=True)\n",
            "<ipython-input-9-4180a39eae65>:13: FutureWarning: A value is trying to be set on a copy of a DataFrame or Series through chained assignment using an inplace method.\n",
            "The behavior will change in pandas 3.0. This inplace method will never work because the intermediate object on which we are setting values always behaves as a copy.\n",
            "\n",
            "For example, when doing 'df[col].method(value, inplace=True)', try using 'df.method({col: value}, inplace=True)' or df[col] = df[col].method(value) instead, to perform the operation inplace on the original object.\n",
            "\n",
            "\n",
            "  df['City'].fillna(df['City'].mode()[0], inplace=True)\n"
          ]
        }
      ]
    }
  ]
}