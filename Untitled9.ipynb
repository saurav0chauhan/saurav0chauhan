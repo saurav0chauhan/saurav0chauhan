{
  "nbformat": 4,
  "nbformat_minor": 0,
  "metadata": {
    "colab": {
      "provenance": [],
      "authorship_tag": "ABX9TyO5XfJyHOo8nwD/KPQDvZKq",
      "include_colab_link": true
    },
    "kernelspec": {
      "name": "python3",
      "display_name": "Python 3"
    },
    "language_info": {
      "name": "python"
    }
  },
  "cells": [
    {
      "cell_type": "markdown",
      "metadata": {
        "id": "view-in-github",
        "colab_type": "text"
      },
      "source": [
        "<a href=\"https://colab.research.google.com/github/saurav0chauhan/saurav0chauhan/blob/main/Untitled9.ipynb\" target=\"_parent\"><img src=\"https://colab.research.google.com/assets/colab-badge.svg\" alt=\"Open In Colab\"/></a>"
      ]
    },
    {
      "cell_type": "code",
      "source": [
        "import pandas as pd\n",
        "import numpy as np\n",
        "\n",
        "# Load the dataset\n",
        "df = pd.read_csv('/content/concrete.csv')\n",
        "\n",
        "# Explore the dataset\n",
        "print(df.head())\n",
        "print(df.info())\n",
        "print(df.isnull().sum())\n",
        "\n",
        "# Handle missing values\n",
        "df.dropna(inplace=True)\n",
        "\n",
        "# Convert data types\n",
        "df['date_column'] = pd.to_datetime(df['cement'])\n",
        "df['category_column'] = df['water'].astype('category')\n",
        "\n",
        "# Normalize a numerical column\n",
        "df['normalized_column'] = (df['ash'] - df['age'].min()) / (df['strength'].max() - df['water'].min())\n",
        "\n",
        "# Display the cleaned dataset\n",
        "print(df.head())"
      ],
      "metadata": {
        "colab": {
          "base_uri": "https://localhost:8080/"
        },
        "id": "RwkR-lFYGTo5",
        "outputId": "2fc632c5-d31f-4327-ac88-101c83c1d273"
      },
      "execution_count": 8,
      "outputs": [
        {
          "output_type": "stream",
          "name": "stdout",
          "text": [
            "   cement   slag  ash  water  superplastic  coarseagg  fineagg  age  strength\n",
            "0   540.0    0.0  0.0  162.0           2.5     1040.0    676.0   28     79.99\n",
            "1   540.0    0.0  0.0  162.0           2.5     1055.0    676.0   28     61.89\n",
            "2   332.5  142.5  0.0  228.0           0.0      932.0    594.0  270     40.27\n",
            "3   332.5  142.5  0.0  228.0           0.0      932.0    594.0  365     41.05\n",
            "4   198.6  132.4  0.0  192.0           0.0      978.4    825.5  360     44.30\n",
            "<class 'pandas.core.frame.DataFrame'>\n",
            "RangeIndex: 1030 entries, 0 to 1029\n",
            "Data columns (total 9 columns):\n",
            " #   Column        Non-Null Count  Dtype  \n",
            "---  ------        --------------  -----  \n",
            " 0   cement        1030 non-null   float64\n",
            " 1   slag          1030 non-null   float64\n",
            " 2   ash           1030 non-null   float64\n",
            " 3   water         1030 non-null   float64\n",
            " 4   superplastic  1030 non-null   float64\n",
            " 5   coarseagg     1030 non-null   float64\n",
            " 6   fineagg       1030 non-null   float64\n",
            " 7   age           1030 non-null   int64  \n",
            " 8   strength      1030 non-null   float64\n",
            "dtypes: float64(8), int64(1)\n",
            "memory usage: 72.5 KB\n",
            "None\n",
            "cement          0\n",
            "slag            0\n",
            "ash             0\n",
            "water           0\n",
            "superplastic    0\n",
            "coarseagg       0\n",
            "fineagg         0\n",
            "age             0\n",
            "strength        0\n",
            "dtype: int64\n",
            "   cement   slag  ash  water  superplastic  coarseagg  fineagg  age  strength  \\\n",
            "0   540.0    0.0  0.0  162.0           2.5     1040.0    676.0   28     79.99   \n",
            "1   540.0    0.0  0.0  162.0           2.5     1055.0    676.0   28     61.89   \n",
            "2   332.5  142.5  0.0  228.0           0.0      932.0    594.0  270     40.27   \n",
            "3   332.5  142.5  0.0  228.0           0.0      932.0    594.0  365     41.05   \n",
            "4   198.6  132.4  0.0  192.0           0.0      978.4    825.5  360     44.30   \n",
            "\n",
            "                    date_column category_column  normalized_column  \n",
            "0 1970-01-01 00:00:00.000000540           162.0            0.02551  \n",
            "1 1970-01-01 00:00:00.000000540           162.0            0.02551  \n",
            "2 1970-01-01 00:00:00.000000332           228.0            0.02551  \n",
            "3 1970-01-01 00:00:00.000000332           228.0            0.02551  \n",
            "4 1970-01-01 00:00:00.000000198           192.0            0.02551  \n"
          ]
        }
      ]
    }
  ]
}