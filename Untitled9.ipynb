{
  "nbformat": 4,
  "nbformat_minor": 0,
  "metadata": {
    "colab": {
      "provenance": [],
      "authorship_tag": "ABX9TyMLpjNpSw9HutKOnmicvzTN",
      "include_colab_link": true
    },
    "kernelspec": {
      "name": "python3",
      "display_name": "Python 3"
    },
    "language_info": {
      "name": "python"
    }
  },
  "cells": [
    {
      "cell_type": "markdown",
      "metadata": {
        "id": "view-in-github",
        "colab_type": "text"
      },
      "source": [
        "<a href=\"https://colab.research.google.com/github/saurav0chauhan/saurav0chauhan/blob/main/Untitled9.ipynb\" target=\"_parent\"><img src=\"https://colab.research.google.com/assets/colab-badge.svg\" alt=\"Open In Colab\"/></a>"
      ]
    },
    {
      "cell_type": "code",
      "source": [
        "import pandas as pd\n",
        "import numpy as np\n",
        "import sklearn.datasets\n",
        "from sklearn.model_selection import train_test_split\n",
        "from sklearn.linear_model import LogisticRegression\n",
        "from sklearn.metrics import accuracy_score\n",
        "\n",
        "\n",
        "# Sample DataFrame\n",
        "data = {\n",
        "    'age': [25, 30, 35, 40],\n",
        "    'income': [50000, 60000, 70000, 80000],\n",
        "    'signup_date': pd.to_datetime(['2020-01-01', '2020-06-01', '2021-01-01', '2021-06-01'])\n",
        "}\n",
        "\n",
        "df = pd.DataFrame(data)\n",
        "\n",
        "# Creating new features\n",
        "df['age_squared'] = df['age'] ** 2  # Polynomial feature\n",
        "df['income_log'] = df['income'].apply(lambda x: np.log(x))  # Log transformation\n",
        "df['signup_year'] = df['signup_date'].dt.year  # Extracting year from date\n",
        "df['days_since_signup'] = (pd.to_datetime('today') - df['signup_date']).dt.days  # Time since signup\n",
        "\n",
        "print(df)"
      ],
      "metadata": {
        "colab": {
          "base_uri": "https://localhost:8080/"
        },
        "id": "ap5i-bhdNhkQ",
        "outputId": "1eb741cb-a8f3-4bae-bae0-266e22f4518b"
      },
      "execution_count": 11,
      "outputs": [
        {
          "output_type": "stream",
          "name": "stdout",
          "text": [
            "   age  income signup_date  age_squared  income_log  signup_year  \\\n",
            "0   25   50000  2020-01-01          625   10.819778         2020   \n",
            "1   30   60000  2020-06-01          900   11.002100         2020   \n",
            "2   35   70000  2021-01-01         1225   11.156251         2021   \n",
            "3   40   80000  2021-06-01         1600   11.289782         2021   \n",
            "\n",
            "   days_since_signup  \n",
            "0               1770  \n",
            "1               1618  \n",
            "2               1404  \n",
            "3               1253  \n"
          ]
        }
      ]
    }
  ]
}