{
  "nbformat": 4,
  "nbformat_minor": 0,
  "metadata": {
    "colab": {
      "provenance": [],
      "authorship_tag": "ABX9TyPV6xQbsG/ZQvRxNaXohGxE",
      "include_colab_link": true
    },
    "kernelspec": {
      "name": "python3",
      "display_name": "Python 3"
    },
    "language_info": {
      "name": "python"
    }
  },
  "cells": [
    {
      "cell_type": "markdown",
      "metadata": {
        "id": "view-in-github",
        "colab_type": "text"
      },
      "source": [
        "<a href=\"https://colab.research.google.com/github/saurav0chauhan/saurav0chauhan/blob/main/Untitled9.ipynb\" target=\"_parent\"><img src=\"https://colab.research.google.com/assets/colab-badge.svg\" alt=\"Open In Colab\"/></a>"
      ]
    },
    {
      "cell_type": "code",
      "source": [
        "import pandas as pd\n",
        "from sklearn.linear_model import LinearRegression\n",
        "from sklearn.metrics import r2_score\n",
        "import numpy as np\n",
        "\n",
        "\n",
        "X = np.array([[1], [2], [3], [4], [5]])\n",
        "y = np.array([2, 4, 5, 4, 5])\n",
        "\n",
        "\n",
        "model = LinearRegression()\n",
        "model.fit(X, y)\n",
        "\n",
        "\n",
        "y_pred = model.predict(X)\n",
        "\n",
        "\n",
        "r2 = r2_score(y, y_pred)\n",
        "\n",
        "\n",
        "n = len(y)\n",
        "k = X.shape[1]\n",
        "adj_r2 = 1 - ((1 - r2) * (n - 1) / (n - k - 1))\n",
        "\n",
        "print(\"R-squared:\", r2)\n",
        "print(\"Adjusted R-squared:\", adj_r2)"
      ],
      "metadata": {
        "id": "5BMh4lDFQBJ0",
        "outputId": "b97fb939-d845-4f40-8104-ed305921dc0a",
        "colab": {
          "base_uri": "https://localhost:8080/"
        }
      },
      "execution_count": 16,
      "outputs": [
        {
          "output_type": "stream",
          "name": "stdout",
          "text": [
            "R-squared: 0.6000000000000001\n",
            "Adjusted R-squared: 0.4666666666666668\n"
          ]
        }
      ]
    }
  ]
}