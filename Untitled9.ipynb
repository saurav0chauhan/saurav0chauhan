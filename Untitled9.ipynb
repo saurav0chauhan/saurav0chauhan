{
  "nbformat": 4,
  "nbformat_minor": 0,
  "metadata": {
    "colab": {
      "provenance": [],
      "authorship_tag": "ABX9TyPmNG9sd0u264DmSlm91hHB",
      "include_colab_link": true
    },
    "kernelspec": {
      "name": "python3",
      "display_name": "Python 3"
    },
    "language_info": {
      "name": "python"
    }
  },
  "cells": [
    {
      "cell_type": "markdown",
      "metadata": {
        "id": "view-in-github",
        "colab_type": "text"
      },
      "source": [
        "<a href=\"https://colab.research.google.com/github/saurav0chauhan/saurav0chauhan/blob/main/Untitled9.ipynb\" target=\"_parent\"><img src=\"https://colab.research.google.com/assets/colab-badge.svg\" alt=\"Open In Colab\"/></a>"
      ]
    },
    {
      "cell_type": "code",
      "source": [
        "# Import necessary libraries\n",
        "from sklearn.preprocessing import MinMaxScaler, StandardScaler\n",
        "import pandas as pd\n",
        "\n",
        "# Load dataset into a Pandas DataFrame\n",
        "df = pd.read_csv(\"/content/concrete.csv\")\n",
        "\n",
        "# Apply Min-Max Scaling\n",
        "scaler = MinMaxScaler()\n",
        "scaled_data = scaler.fit_transform(df)\n",
        "\n",
        "# Apply Standardization\n",
        "scaler = StandardScaler()\n",
        "standardized_data = scaler.fit_transform(df)\n",
        "print(df)"
      ],
      "metadata": {
        "colab": {
          "base_uri": "https://localhost:8080/"
        },
        "id": "haHiXj6iLia0",
        "outputId": "abb54966-04d6-4d55-96ce-ad0666ab0edf"
      },
      "execution_count": 10,
      "outputs": [
        {
          "output_type": "stream",
          "name": "stdout",
          "text": [
            "      cement   slag    ash  water  superplastic  coarseagg  fineagg  age  \\\n",
            "0      540.0    0.0    0.0  162.0           2.5     1040.0    676.0   28   \n",
            "1      540.0    0.0    0.0  162.0           2.5     1055.0    676.0   28   \n",
            "2      332.5  142.5    0.0  228.0           0.0      932.0    594.0  270   \n",
            "3      332.5  142.5    0.0  228.0           0.0      932.0    594.0  365   \n",
            "4      198.6  132.4    0.0  192.0           0.0      978.4    825.5  360   \n",
            "...      ...    ...    ...    ...           ...        ...      ...  ...   \n",
            "1025   276.4  116.0   90.3  179.6           8.9      870.1    768.3   28   \n",
            "1026   322.2    0.0  115.6  196.0          10.4      817.9    813.4   28   \n",
            "1027   148.5  139.4  108.6  192.7           6.1      892.4    780.0   28   \n",
            "1028   159.1  186.7    0.0  175.6          11.3      989.6    788.9   28   \n",
            "1029   260.9  100.5   78.3  200.6           8.6      864.5    761.5   28   \n",
            "\n",
            "      strength  \n",
            "0        79.99  \n",
            "1        61.89  \n",
            "2        40.27  \n",
            "3        41.05  \n",
            "4        44.30  \n",
            "...        ...  \n",
            "1025     44.28  \n",
            "1026     31.18  \n",
            "1027     23.70  \n",
            "1028     32.77  \n",
            "1029     32.40  \n",
            "\n",
            "[1030 rows x 9 columns]\n"
          ]
        }
      ]
    }
  ]
}